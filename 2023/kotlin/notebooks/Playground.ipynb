{
 "cells": [
  {
   "cell_type": "code",
   "execution_count": 55,
   "metadata": {
    "collapsed": true,
    "ExecuteTime": {
     "end_time": "2023-12-02T06:08:00.799433108Z",
     "start_time": "2023-12-02T06:08:00.777533278Z"
    }
   },
   "outputs": [],
   "source": [
    "val input = \"\"\"Game 1: 3 blue, 4 red; 1 red, 2 green, 6 blue; 2 green\n",
    "                    Game 2: 1 blue, 2 green; 3 green, 4 blue, 1 red; 1 green, 1 blue\n",
    "                    Game 3: 8 green, 6 blue, 20 red; 5 blue, 4 red, 13 green; 5 green, 1 red\n",
    "                    Game 4: 1 green, 3 red, 6 blue; 3 green, 6 red; 3 green, 15 blue, 14 red\n",
    "                    Game 5: 6 red, 1 blue, 3 green; 2 blue, 1 red, 2 green\"\"\"\n",
    "                   "
   ]
  },
  {
   "cell_type": "code",
   "execution_count": null,
   "outputs": [],
   "source": [],
   "metadata": {
    "collapsed": false
   }
  },
  {
   "cell_type": "code",
   "execution_count": 56,
   "outputs": [
    {
     "name": "stdout",
     "output_type": "stream",
     "text": [
      "[(1, [{blue=3, red=4}, {red=1, green=2, blue=6}, {green=2}]), (2, [{blue=1, green=2}, {green=3, blue=4, red=1}, {green=1, blue=1}]), (3, [{green=8, blue=6, red=20}, {blue=5, red=4, green=13}, {green=5, red=1}]), (4, [{green=1, red=3, blue=6}, {green=3, red=6}, {green=3, blue=15, red=14}]), (5, [{red=6, blue=1, green=3}, {blue=2, red=1, green=2}])]\n"
     ]
    }
   ],
   "source": [
    "fun parseSets(sets: String): List<MutableMap<String, Int>> {\n",
    "    return sets.splitToSequence(\";\")\n",
    "        .map { set ->\n",
    "            set.splitToSequence(\",\")\n",
    "                .fold(mutableMapOf<String, Int>()) { res, cubes ->\n",
    "                    val (num, color) = cubes.trim().split(\" \")\n",
    "                    res[color] = num.toInt()\n",
    "                    res\n",
    "                }\n",
    "        }.toList()\n",
    "}\n",
    "\n",
    "\n",
    "fun parseGame(game: String): Pair<Int, List<MutableMap<String, Int>>> {\n",
    "    val (name, sets) = game.split(\":\")\n",
    "    val (_, gameId) = name.split(\" \")\n",
    "\n",
    "    return Pair(gameId.toInt(), parseSets(sets))\n",
    "}\n",
    "\n",
    "\n",
    "val a = input.splitToSequence('\\n').map { parseGame(it.trim()) }.toList()\n",
    "println(a.toList())"
   ],
   "metadata": {
    "collapsed": false,
    "ExecuteTime": {
     "end_time": "2023-12-02T06:08:00.872628574Z",
     "start_time": "2023-12-02T06:08:00.795424311Z"
    }
   }
  },
  {
   "cell_type": "code",
   "execution_count": 73,
   "outputs": [
    {
     "name": "stdout",
     "output_type": "stream",
     "text": [
      "8\n"
     ]
    }
   ],
   "source": [
    "val bag = mapOf(\"red\" to 12, \"green\" to 13, \"blue\" to 14)\n",
    "\n",
    "val validGames = a.filter { (gameId, gameSets) ->\n",
    "    !gameSets.any { set -> set.entries.any { (color, count) -> bag.get(color)!! < count } }\n",
    "}.map { (gameId, _) -> gameId }.sum()\n",
    "\n",
    "println(validGames)\n",
    "\n",
    "//val t = bag.values\n",
    "//println(t)\n"
   ],
   "metadata": {
    "collapsed": false,
    "ExecuteTime": {
     "end_time": "2023-12-02T06:22:13.395842004Z",
     "start_time": "2023-12-02T06:22:13.324346724Z"
    }
   }
  },
  {
   "cell_type": "code",
   "execution_count": 75,
   "outputs": [
    {
     "name": "stdout",
     "output_type": "stream",
     "text": [
      "[[{blue=3, red=4}, {red=1, green=2, blue=6}, {green=2}], [{blue=1, green=2}, {green=3, blue=4, red=1}, {green=1, blue=1}], [{green=8, blue=6, red=20}, {blue=5, red=4, green=13}, {green=5, red=1}], [{green=1, red=3, blue=6}, {green=3, red=6}, {green=3, blue=15, red=14}], [{red=6, blue=1, green=3}, {blue=2, red=1, green=2}]]\n"
     ]
    }
   ],
   "source": [
    "val b = a.map { (id, sets) -> sets }\n",
    "println(b.toList())"
   ],
   "metadata": {
    "collapsed": false,
    "ExecuteTime": {
     "end_time": "2023-12-02T06:38:04.474685618Z",
     "start_time": "2023-12-02T06:38:04.440416869Z"
    }
   }
  },
  {
   "cell_type": "code",
   "execution_count": 95,
   "outputs": [
    {
     "name": "stdout",
     "output_type": "stream",
     "text": [
      "in res:{} set:{blue=3, red=4}\n",
      "out res:{blue=3, red=4}\n",
      "in res:{blue=3, red=4} set:{red=1, green=2, blue=6}\n",
      "out res:{blue=6, red=4, green=2}\n",
      "in res:{blue=6, red=4, green=2} set:{green=2}\n",
      "out res:{blue=6, red=4, green=2}\n",
      "in res:{} set:{blue=1, green=2}\n",
      "out res:{blue=1, green=2}\n",
      "in res:{blue=1, green=2} set:{green=3, blue=4, red=1}\n",
      "out res:{blue=4, green=3, red=1}\n",
      "in res:{blue=4, green=3, red=1} set:{green=1, blue=1}\n",
      "out res:{blue=4, green=3, red=1}\n",
      "in res:{} set:{green=8, blue=6, red=20}\n",
      "out res:{green=8, blue=6, red=20}\n",
      "in res:{green=8, blue=6, red=20} set:{blue=5, red=4, green=13}\n",
      "out res:{green=13, blue=6, red=20}\n",
      "in res:{green=13, blue=6, red=20} set:{green=5, red=1}\n",
      "out res:{green=13, blue=6, red=20}\n",
      "in res:{} set:{green=1, red=3, blue=6}\n",
      "out res:{green=1, red=3, blue=6}\n",
      "in res:{green=1, red=3, blue=6} set:{green=3, red=6}\n",
      "out res:{green=3, red=6, blue=6}\n",
      "in res:{green=3, red=6, blue=6} set:{green=3, blue=15, red=14}\n",
      "out res:{green=3, red=14, blue=15}\n",
      "in res:{} set:{red=6, blue=1, green=3}\n",
      "out res:{red=6, blue=1, green=3}\n",
      "in res:{red=6, blue=1, green=3} set:{blue=2, red=1, green=2}\n",
      "out res:{red=6, blue=2, green=3}\n"
     ]
    }
   ],
   "source": [
    "import io.kotest.core.spec.style.featureSpec\n",
    "\n",
    "val c = b.map { sets ->\n",
    "    sets.fold(mutableMapOf<String, Int>()) { res, set ->\n",
    "        set.entries.forEach {\n",
    "            val (color, count) = it\n",
    "            res[color] = res.get(color)?.let { max(it, count) } ?: count\n",
    "        }\n",
    "        res\n",
    "    }\n",
    "} "
   ],
   "metadata": {
    "collapsed": false,
    "ExecuteTime": {
     "end_time": "2023-12-02T07:15:50.374940900Z",
     "start_time": "2023-12-02T07:15:50.319075397Z"
    }
   }
  },
  {
   "cell_type": "code",
   "execution_count": 98,
   "outputs": [
    {
     "name": "stdout",
     "output_type": "stream",
     "text": [
      "> {blue=6, red=4, green=2}\n",
      "> {blue=4, green=3, red=1}\n",
      "> {green=13, blue=6, red=20}\n",
      "> {green=3, red=14, blue=15}\n",
      "> {red=6, blue=2, green=3}\n",
      "2286\n"
     ]
    }
   ],
   "source": [
    "c.forEach { println(\"> ${it}\") }\n",
    "\n",
    "val d = c.map { it.values.reduce { acc, i -> acc * i } }.sum()\n",
    "\n",
    "println(d)"
   ],
   "metadata": {
    "collapsed": false,
    "ExecuteTime": {
     "end_time": "2023-12-02T07:16:48.130114357Z",
     "start_time": "2023-12-02T07:16:48.093158754Z"
    }
   }
  },
  {
   "cell_type": "code",
   "execution_count": 26,
   "outputs": [
    {
     "name": "stdout",
     "output_type": "stream",
     "text": [
      "8\n"
     ]
    }
   ],
   "source": [
    "val input = \"\"\"Card 1: 41 48 83 86 17 | 83 86  6 31 17  9 48 53\n",
    "                    Card 2: 13 32 20 16 61 | 61 30 68 82 17 32 24 19\n",
    "                    Card 3:  1 21 53 59 44 | 69 82 63 72 16 21 14  1\n",
    "                    Card 4: 41 92 73 84 69 | 59 84 76 51 58  5 54 83\n",
    "                    Card 5: 87 83 26 28 32 | 88 30 70 12 93 22 82 36\n",
    "                    Card 6: 31 18 13 56 72 | 74 77 10 23 35 67 36 11\"\"\"\n",
    "\n",
    "\n",
    "data class Card(val winningNumbers: List<Int>, val ownedNumbers: List<Int>) {\n",
    "\n",
    "    companion object {\n",
    "        fun of(input: String): Card {\n",
    "            val (winningNbs, ownedNumbers) = line.substringAfter(\":\").split(\"|\", limit = 2)\n",
    "                .map { numbers -> numbers.trim().split(Regex(\"\\\\s+\")).map { it.toInt() } }\n",
    "            return Card(winningNbs, ownedNumbers)\n",
    "        }\n",
    "    }\n",
    "\n",
    "    override fun toString(): String {\n",
    "        return \"$winningNumbers|$ownedNumbers\"\n",
    "    }\n",
    "\n",
    "    fun points(): Int {\n",
    "        var winning = winningNumbers.intersect(ownedNumbers).size\n",
    "        return 1.shl(winning - 1)\n",
    "    }\n",
    "}\n",
    "\n",
    "fun card_of(input: String): Card {\n",
    "    val (winningNbs, ownedNumbers) = line.substringAfter(\":\").split(\"|\", limit = 2)\n",
    "        .map { numbers -> numbers.trim().split(Regex(\"\\\\s+\")).map { it.toInt() } }\n",
    "    return Card(winningNbs, ownedNumbers)\n",
    "}\n",
    "\n",
    "\n",
    "//    \n",
    "//    \n",
    "val line = \"Card 1: 41 48 83 86 17 | 83 86  6 31 17  9 48 53\"\n",
    "var res = card_of(line)\n",
    "println(res.points())\n",
    "    \n",
    "    "
   ],
   "metadata": {
    "collapsed": false,
    "ExecuteTime": {
     "end_time": "2023-12-04T05:28:48.273499432Z",
     "start_time": "2023-12-04T05:28:48.203751939Z"
    }
   }
  },
  {
   "cell_type": "code",
   "execution_count": 64,
   "outputs": [
    {
     "name": "stdout",
     "output_type": "stream",
     "text": [
      "[2, 3, 4, 5] winnings for 1\n",
      "current count for 2: cards to 1\n",
      "adding 1 cards to 2\n",
      "new count for 2 cards: 2\n",
      "current count for 3: cards to 1\n",
      "adding 1 cards to 3\n",
      "new count for 3 cards: 2\n",
      "current count for 4: cards to 1\n",
      "adding 1 cards to 4\n",
      "new count for 4 cards: 2\n",
      "current count for 5: cards to 1\n",
      "adding 1 cards to 5\n",
      "new count for 5 cards: 2\n",
      "[3, 4] winnings for 2\n",
      "current count for 3: cards to 2\n",
      "adding 2 cards to 3\n",
      "new count for 3 cards: 4\n",
      "current count for 4: cards to 2\n",
      "adding 2 cards to 4\n",
      "new count for 4 cards: 4\n",
      "[4, 5] winnings for 3\n",
      "current count for 4: cards to 4\n",
      "adding 4 cards to 4\n",
      "new count for 4 cards: 8\n",
      "current count for 5: cards to 2\n",
      "adding 4 cards to 5\n",
      "new count for 5 cards: 6\n",
      "[5] winnings for 4\n",
      "current count for 5: cards to 6\n",
      "adding 8 cards to 5\n",
      "new count for 5 cards: 14\n",
      "[] winnings for 5\n",
      "[] winnings for 6\n",
      "30\n"
     ]
    }
   ],
   "source": [
    "val input = \"\"\"Card 1: 41 48 83 86 17 | 83 86  6 31 17  9 48 53\n",
    "                    Card 2: 13 32 20 16 61 | 61 30 68 82 17 32 24 19\n",
    "                    Card 3:  1 21 53 59 44 | 69 82 63 72 16 21 14  1\n",
    "                    Card 4: 41 92 73 84 69 | 59 84 76 51 58  5 54 83\n",
    "                    Card 5: 87 83 26 28 32 | 88 30 70 12 93 22 82 36\n",
    "                    Card 6: 31 18 13 56 72 | 74 77 10 23 35 67 36 11\"\"\"\n",
    "\n",
    "\n",
    "data class Card(val id: Int, val winningNumbers: List<Int>, val ownedNumbers: List<Int>, var count: Int = 1) {\n",
    "\n",
    "    companion object {\n",
    "        fun of(input: String): Card {\n",
    "            var id = input.trim().substringAfter(\" \").substringBefore(\":\").toInt()\n",
    "            val (winningNbs, ownedNumbers) = input.substringAfter(\":\").split(\"|\", limit = 2)\n",
    "                .map { numbers -> numbers.trim().split(Regex(\"\\\\s+\")).map { it.toInt() } }\n",
    "            return Card(id, winningNbs, ownedNumbers)\n",
    "        }\n",
    "    }\n",
    "\n",
    "    override fun toString(): String {\n",
    "        return \"$id:$winningNumbers|$ownedNumbers\"\n",
    "    }\n",
    "\n",
    "//    fun setCount(count: Int) {\n",
    "//        this.count = count\n",
    "//    }\n",
    "\n",
    "    fun winnings(): List<Int> {\n",
    "        var winning = winningNumbers.intersect(ownedNumbers).size\n",
    "        return if (winning > 0) (id + 1..id + winning).map { it } else listOf()\n",
    "    }\n",
    "\n",
    "    fun points(): Int {\n",
    "        var winning = winningNumbers.intersect(ownedNumbers).size\n",
    "        return 1.shl(winning - 1)\n",
    "    }\n",
    "}\n",
    "\n",
    "\n",
    "val cards = input.splitToSequence('\\n').map { Card.of(it) }.toMutableList()\n",
    "\n",
    "\n",
    "cards.forEach { card ->\n",
    "    val winnings = card.winnings()\n",
    "//    println(\"$winnings winnings for ${card.id}\")\n",
    "    winnings.forEach { winning ->\n",
    "//        println(\"current count for ${winning}: cards to ${cards.elementAt(winning - 1).count}\")\n",
    "//        println(\"adding ${card.count} cards to ${winning}\")\n",
    "        cards.elementAt(winning - 1).count = cards.elementAt(winning - 1).count + card.count\n",
    "//        println(\"new count for ${winning} cards: ${cards.elementAt(winning - 1).count}\")\n",
    "    }\n",
    "}\n",
    "\n",
    "val res = cards.sumOf { it.count }\n",
    "println(res)\n",
    "\n",
    "\n",
    "//    \n",
    "//    \n",
    "//    val line = \"Card 1: 41 48 83 86 17 | 83 86  6 31 17  9 48 53\"\n",
    "//    var res = card_of(line) \n",
    "//    println( res.points())\n",
    "//    "
   ],
   "metadata": {
    "collapsed": false,
    "ExecuteTime": {
     "end_time": "2023-12-04T14:43:58.522762114Z",
     "start_time": "2023-12-04T14:43:58.431190495Z"
    }
   }
  },
  {
   "cell_type": "code",
   "execution_count": 66,
   "outputs": [
    {
     "name": "stdout",
     "output_type": "stream",
     "text": [
      "[]\n"
     ]
    }
   ],
   "source": [
    "val r = (1..0).toList()\n",
    "println(r)\n"
   ],
   "metadata": {
    "collapsed": false,
    "ExecuteTime": {
     "end_time": "2023-12-04T14:54:16.301808096Z",
     "start_time": "2023-12-04T14:54:16.280800569Z"
    }
   }
  }
 ],
 "metadata": {
  "kernelspec": {
   "display_name": "Kotlin",
   "language": "kotlin",
   "name": "kotlin"
  },
  "language_info": {
   "name": "kotlin",
   "version": "1.9.0",
   "mimetype": "text/x-kotlin",
   "file_extension": ".kt",
   "pygments_lexer": "kotlin",
   "codemirror_mode": "text/x-kotlin",
   "nbconvert_exporter": ""
  }
 },
 "nbformat": 4,
 "nbformat_minor": 0
}
