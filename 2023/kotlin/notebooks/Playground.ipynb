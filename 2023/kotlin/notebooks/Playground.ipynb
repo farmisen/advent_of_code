{
 "cells": [
  {
   "cell_type": "code",
   "execution_count": 20,
   "outputs": [
    {
     "name": "stdout",
     "output_type": "stream",
     "text": [
      "71503\n"
     ]
    }
   ],
   "source": [
    "import kotlin.math.ceil\n",
    "\n",
    "val input = \"\"\"Time:      7  15   30\n",
    "            Distance:  9  40  200\"\"\"\n",
    "            \n",
    "            \n",
    "var times = input.substringBefore('\\n').substringAfter(':').replace(\" \", \"\").toInt()    \n",
    "var distances = input.substringAfter('\\n').substringAfter(':').replace(\" \", \"\").toInt()\n",
    "            \n",
    "var z = listOf(Pair(times, distances))\n",
    "\n",
    "\n",
    "val s = z.map { (t,d) -> \n",
    "    val a = t.toDouble()\n",
    "    val b = d.toDouble() \n",
    "//    val min = kotlin.math.ceil(0.5 * (a - sqrt( a*a - 4*b  ))).toInt()\n",
    "//    val max = kotlin.math.floor(0.5 * (a + sqrt( a*a - 4*b  ))).toInt()\n",
    "    val min = roundUp(0.5 * (a - sqrt( a*a - 4*b  )))\n",
    "    val max = roundDown(.5 * (a + sqrt( a*a - 4*b  )))\n",
    "    max - min + 1 \n",
    "}.reduce(Int::times) \n",
    "println(s)    \n",
    "            "
   ],
   "metadata": {
    "collapsed": false,
    "ExecuteTime": {
     "end_time": "2023-12-06T05:55:00.777493513Z",
     "start_time": "2023-12-06T05:55:00.693799270Z"
    }
   }
  },
  {
   "cell_type": "code",
   "execution_count": null,
   "outputs": [],
   "source": [],
   "metadata": {
    "collapsed": false
   }
  }
 ],
 "metadata": {
  "kernelspec": {
   "display_name": "Kotlin",
   "language": "kotlin",
   "name": "kotlin"
  },
  "language_info": {
   "name": "kotlin",
   "version": "1.9.0",
   "mimetype": "text/x-kotlin",
   "file_extension": ".kt",
   "pygments_lexer": "kotlin",
   "codemirror_mode": "text/x-kotlin",
   "nbconvert_exporter": ""
  }
 },
 "nbformat": 4,
 "nbformat_minor": 0
}
