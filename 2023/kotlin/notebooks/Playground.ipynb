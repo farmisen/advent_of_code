{
 "cells": [
  {
   "cell_type": "code",
   "execution_count": 11,
   "outputs": [
    {
     "name": "stdout",
     "output_type": "stream",
     "text": [
      "6\n"
     ]
    }
   ],
   "source": [
    "//    val input = \"\"\"RL                    \n",
    "//\n",
    "//AAA = (BBB, CCC)\n",
    "//BBB = (DDD, EEE)\n",
    "//CCC = (ZZZ, GGG)\n",
    "//DDD = (DDD, DDD)\n",
    "//EEE = (EEE, EEE)\n",
    "//GGG = (GGG, GGG)\n",
    "//ZZZ = (ZZZ, ZZZ)\"\"\"\n",
    "\n",
    "val input =\"\"\"LLR\n",
    "\n",
    "AAA = (BBB, BBB)\n",
    "BBB = (AAA, ZZZ)\n",
    "ZZZ = (ZZZ, ZZZ)\"\"\"\n",
    "data class Node(val id: String, val left: String, val right: String) {\n",
    "    companion object {\n",
    "        //    AAA = (BBB, CCC)\n",
    "\n",
    "        fun of(input: String): Node {\n",
    "            val id = input.substringBefore(\"=\").trim()\n",
    "            val left = input.substringAfter(\"(\").substringBefore(\",\").trim()\n",
    "            val right = input.substringAfter(\",\").substringBefore(\")\").trim()\n",
    "            return Node(id, left, right)\n",
    "        }\n",
    "    }\n",
    "}\n",
    "\n",
    "data class State(val instructions: List<Char>, val nodes: Map<String, Node>, var currentNodeId: String, var totalSteps: Int = 0, var nextInstructionIdx: Int = 0 ) {\n",
    "    fun step(): String {\n",
    "        totalSteps += 1\n",
    "        val instruction = instructions.elementAt(nextInstructionIdx)\n",
    "        val currentNode = nodes.get(currentNodeId)\n",
    "        currentNodeId = if ( instruction == 'L') currentNode!!.left else currentNode!!.right\n",
    "        nextInstructionIdx = (nextInstructionIdx + 1 ) % instructions.size\n",
    "        return currentNodeId \n",
    "    }\n",
    "\n",
    "    override fun toString(): String {\n",
    "        return \"$totalSteps: $nextInstructionIdx(${instructions.elementAt(nextInstructionIdx)}),$currentNodeId\"\n",
    "    }\n",
    "}\n",
    "\n",
    "\n",
    "var instructions = input.substringBefore(\"\\n\").trim().toCharArray().toList()\n",
    "var nodes = input.substringAfter(\"\\n\\n\").split(\"\\n\").map {Node.of(it)}.groupBy { it.id }.mapValues { (_, list) -> list.single() }\n",
    "\n",
    "val state = State(instructions, nodes, \"AAA\")\n",
    "while (state.currentNodeId != \"ZZZ\") {\n",
    "    state.step()\n",
    "}\n",
    "println(state.totalSteps)\n",
    "\n",
    "\n",
    "\n"
   ],
   "metadata": {
    "collapsed": false,
    "ExecuteTime": {
     "end_time": "2023-12-08T05:46:23.448035464Z",
     "start_time": "2023-12-08T05:46:23.347695918Z"
    }
   }
  },
  {
   "cell_type": "code",
   "execution_count": null,
   "outputs": [],
   "source": [],
   "metadata": {
    "collapsed": false
   }
  }
 ],
 "metadata": {
  "kernelspec": {
   "display_name": "Kotlin",
   "language": "kotlin",
   "name": "kotlin"
  },
  "language_info": {
   "name": "kotlin",
   "version": "1.9.0",
   "mimetype": "text/x-kotlin",
   "file_extension": ".kt",
   "pygments_lexer": "kotlin",
   "codemirror_mode": "text/x-kotlin",
   "nbconvert_exporter": ""
  }
 },
 "nbformat": 4,
 "nbformat_minor": 0
}
